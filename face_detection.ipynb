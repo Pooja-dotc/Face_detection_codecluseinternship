{
  "cells": [
    {
      "cell_type": "markdown",
      "metadata": {
        "id": "view-in-github",
        "colab_type": "text"
      },
      "source": [
        "<a href=\"https://colab.research.google.com/github/Pooja-dotc/Face_detection_codecluseinternship/blob/main/face_detection.ipynb\" target=\"_parent\"><img src=\"https://colab.research.google.com/assets/colab-badge.svg\" alt=\"Open In Colab\"/></a>"
      ]
    },
    {
      "cell_type": "code",
      "execution_count": null,
      "id": "90528620",
      "metadata": {
        "scrolled": true,
        "id": "90528620",
        "outputId": "9cc6040b-622b-415f-ce8a-db787a35ad25"
      },
      "outputs": [
        {
          "name": "stdout",
          "output_type": "stream",
          "text": [
            "Requirement already satisfied: opencv-python in c:\\users\\kriti\\anaconda3\\lib\\site-packages (4.8.0.74)\n",
            "Requirement already satisfied: numpy>=1.19.3 in c:\\users\\kriti\\anaconda3\\lib\\site-packages (from opencv-python) (1.23.5)\n",
            "Note: you may need to restart the kernel to use updated packages.\n"
          ]
        }
      ],
      "source": [
        "pip install opencv-python"
      ]
    },
    {
      "cell_type": "code",
      "execution_count": null,
      "id": "19b71053",
      "metadata": {
        "id": "19b71053"
      },
      "outputs": [],
      "source": [
        "import cv2"
      ]
    },
    {
      "cell_type": "code",
      "execution_count": null,
      "id": "a5f3a23f",
      "metadata": {
        "id": "a5f3a23f"
      },
      "outputs": [],
      "source": [
        "cap = cv2.VideoCapture(0)"
      ]
    },
    {
      "cell_type": "code",
      "execution_count": null,
      "id": "491d7bf6",
      "metadata": {
        "id": "491d7bf6"
      },
      "outputs": [],
      "source": [
        "import cv2\n",
        "\n",
        "cascade_classifier = cv2.CascadeClassifier(cv2.data.haarcascades + 'haarcascade_frontalface_default.xml')\n",
        "cap = cv2.VideoCapture(0)\n",
        "\n",
        "while True:\n",
        "    # Capture frame-by-frame\n",
        "    ret, frame = cap.read()\n",
        "    # Our operations on the frame come here\n",
        "    gray = cv2.cvtColor(frame, 0)\n",
        "    detections = cascade_classifier.detectMultiScale(gray,scaleFactor=1.3,minNeighbors=5)\n",
        "    if(len(detections) > 0):\n",
        "        (x,y,w,h) = detections[0]\n",
        "        frame = cv2.rectangle(frame,(x,y),(x+w,y+h),(255,0,0),2)\n",
        "\n",
        "    # for (x,y,w,h) in detections:\n",
        "    # \tframe = cv2.rectangle(frame,(x,y),(x+w,y+h),(255,0,0),2)\n",
        "\n",
        "    # Display the resulting frame\n",
        "    cv2.imshow('frame',frame)\n",
        "    if cv2.waitKey(1) & 0xFF == ord('q'):\n",
        "        break\n",
        "\n",
        "# When everything done, release the capture\n",
        "cap.release()\n",
        "cv2.destroyAllWindows()"
      ]
    },
    {
      "cell_type": "code",
      "execution_count": null,
      "id": "a882cf71",
      "metadata": {
        "id": "a882cf71"
      },
      "outputs": [],
      "source": []
    }
  ],
  "metadata": {
    "kernelspec": {
      "display_name": "Python 3 (ipykernel)",
      "language": "python",
      "name": "python3"
    },
    "language_info": {
      "codemirror_mode": {
        "name": "ipython",
        "version": 3
      },
      "file_extension": ".py",
      "mimetype": "text/x-python",
      "name": "python",
      "nbconvert_exporter": "python",
      "pygments_lexer": "ipython3",
      "version": "3.9.13"
    },
    "colab": {
      "provenance": [],
      "include_colab_link": true
    }
  },
  "nbformat": 4,
  "nbformat_minor": 5
}